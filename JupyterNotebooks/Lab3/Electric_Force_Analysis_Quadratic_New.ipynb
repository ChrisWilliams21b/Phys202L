{
  "cells": [
    {
      "cell_type": "markdown",
      "metadata": {
        "id": "AMFRf5kSKzXI"
      },
      "source": [
        "# Lab 3:  Electric Force"
      ]
    },
    {
      "cell_type": "code",
      "execution_count": 65,
      "metadata": {
        "id": "_mgG97ZDKzXL"
      },
      "outputs": [],
      "source": [
        "import numpy as np\n",
        "import pandas as pd\n",
        "import matplotlib.pyplot as plt\n",
        "import scipy.stats as stats\n",
        "\n",
        "# The following lines make plots in dark mode look reasonable.  If you are not using dark\n",
        "# mode you don't need them, but you can also just leave them here and it should work fine.\n",
        "\n",
        "dark_mode = False\n",
        "# plotting choices for dark-mode\n",
        "if (dark_mode):\n",
        "    from jupyterthemes import jtplot\n",
        "    jtplot.style(theme='monokai', context='notebook', ticks=True, grid=False)\n",
        "    linecolor = 'w'\n",
        "else:\n",
        "    linecolor = 'k'"
      ]
    },
    {
      "cell_type": "markdown",
      "metadata": {
        "id": "oq5PFp7tKzXO"
      },
      "source": [
        "# Determining the Path of Electrons"
      ]
    },
    {
      "cell_type": "code",
      "execution_count": 66,
      "metadata": {
        "id": "dp_WSp8gKzXP",
        "outputId": "7fdef4f8-5577-4bcf-b8fe-224d5bc399bb",
        "colab": {
          "base_uri": "https://localhost:8080/"
        }
      },
      "outputs": [
        {
          "output_type": "stream",
          "name": "stdout",
          "text": [
            "Accelerating voltage = 4.5 kV:\n",
            " x_cm  dx_cm  y_cm  dy_cm\n",
            "  2.0   0.01  0.00   0.02\n",
            "  3.0   0.01  0.10   0.02\n",
            "  4.0   0.01  0.20   0.02\n",
            "  5.0   0.01  0.35   0.02\n",
            "  6.0   0.01  0.60   0.02\n",
            "  7.0   0.01  0.95   0.02\n",
            "  9.0   0.01  1.60   0.02\n",
            " 10.0   0.01  2.00   0.02\n",
            "\n",
            "Accelerating voltage = 3.5 kV:\n",
            " x_cm  dx_cm  y_cm  dy_cm\n",
            "  2.0   0.01  0.00   0.02\n",
            "  3.0   0.01  0.20   0.02\n",
            "  4.0   0.01  0.30   0.02\n",
            "  5.0   0.01  0.50   0.02\n",
            "  6.0   0.01  0.85   0.02\n",
            "  7.0   0.01  1.10   0.02\n",
            "  8.0   0.01  1.50   0.02\n",
            "  9.0   0.01  2.00   0.02\n",
            " 10.0   0.01  2.60   0.02\n",
            "\n",
            "Accelerating voltage = 2.5 kV:\n",
            " x_cm  dx_cm  y_cm  dy_cm\n",
            "  2.0   0.01   0.0   0.02\n",
            "  3.0   0.01   0.2   0.02\n",
            "  4.0   0.01   0.3   0.02\n",
            "  5.0   0.01   0.7   0.02\n",
            "  6.0   0.01   1.1   0.02\n",
            "  7.0   0.01   1.6   0.02\n",
            "  8.0   0.01   2.1   0.02\n",
            "  9.0   0.01   3.0   0.02\n",
            " 10.0   0.01   4.0   0.02\n"
          ]
        }
      ],
      "source": [
        "# Create a Pandas DataFrame with data for part 1\n",
        "\n",
        "# The data elements are [x_cm, dx_cm, y_cm, dy_cm]\n",
        "\n",
        "data1 = [[2.00, 0.01, 0.00, 0.02], [3.00, 0.01, 0.1, 0.02], [4.00, 0.01, 0.2, 0.02],\n",
        "         [5.00, 0.01, 0.35, 0.02], [6.00, 0.01, 0.6, 0.02], [7.00, 0.01, 0.95, 0.02],\n",
        "         [9.00, 0.01, 1.6, 0.02], [10.00, 0.01, 2.00, 0.02]]\n",
        "# create dataframe\n",
        "df1 = pd.DataFrame(data1, columns = ['x_cm', 'dx_cm','y_cm','dy_cm'])\n",
        "\n",
        "print('Accelerating voltage = 4.5 kV:')\n",
        "print(df1.to_string(index=False))\n",
        "\n",
        "data2 = [[2, 0.01, 0, 0.02], [3, 0.01, 0.2, 0.02], [4.00, 0.01, 0.3, 0.02], \n",
        "         [5.00, 0.01, 0.5, 0.02], [6.00, 0.01, 0.85, 0.02], [7.00, 0.01, 1.1, 0.02],\n",
        "         [8.00, 0.01, 1.5, 0.02], [9.00, 0.01, 2.00, 0.02], [10.00, 0.01, 2.6, 0.02]]\n",
        "# create dataframe\n",
        "df2 = pd.DataFrame(data2, columns = ['x_cm', 'dx_cm','y_cm','dy_cm'])\n",
        "\n",
        "print()\n",
        "print('Accelerating voltage = 3.5 kV:')\n",
        "print(df2.to_string(index=False))\n",
        "\n",
        "data3 = [[2.00, 0.01, 0, 0.02], [3.00, 0.01, 0.2, 0.02], [4.00, 0.01, 0.3, 0.02],\n",
        "         [5.00, 0.01, 0.7, 0.02], [6.00, 0.01, 1.1, 0.02], [7.00, 0.01, 1.6, 0.02],\n",
        "         [8.00, 0.01, 2.1, 0.02], [9.00, 0.01, 3.00, 0.02], [10.00, 0.01, 4.00, 0.02]]\n",
        "# create dataframe\n",
        "df3 = pd.DataFrame(data3, columns = ['x_cm', 'dx_cm','y_cm','dy_cm'])\n",
        "\n",
        "print()\n",
        "print('Accelerating voltage = 2.5 kV:')\n",
        "print(df3.to_string(index=False))"
      ]
    },
    {
      "cell_type": "code",
      "execution_count": 67,
      "metadata": {
        "id": "vbW9ljvzKzXR",
        "outputId": "90c6a91f-adf8-4d23-c982-b266a665e5d1",
        "colab": {
          "base_uri": "https://localhost:8080/"
        }
      },
      "outputs": [
        {
          "output_type": "stream",
          "name": "stdout",
          "text": [
            "Accelerating voltage = 4.5 kV:\n",
            " x_cm  dx_cm  y_cm  dy_cm    x     dx      y     dy\n",
            "  2.0   0.01  0.00   0.02 0.02 0.0001 0.0000 0.0002\n",
            "  3.0   0.01  0.10   0.02 0.03 0.0001 0.0010 0.0002\n",
            "  4.0   0.01  0.20   0.02 0.04 0.0001 0.0020 0.0002\n",
            "  5.0   0.01  0.35   0.02 0.05 0.0001 0.0035 0.0002\n",
            "  6.0   0.01  0.60   0.02 0.06 0.0001 0.0060 0.0002\n",
            "  7.0   0.01  0.95   0.02 0.07 0.0001 0.0095 0.0002\n",
            "  9.0   0.01  1.60   0.02 0.09 0.0001 0.0160 0.0002\n",
            " 10.0   0.01  2.00   0.02 0.10 0.0001 0.0200 0.0002\n",
            "\n",
            "Accelerating voltage = 3.5 kV:\n",
            " x_cm  dx_cm  y_cm  dy_cm    x     dx      y     dy\n",
            "  2.0   0.01  0.00   0.02 0.02 0.0001 0.0000 0.0002\n",
            "  3.0   0.01  0.20   0.02 0.03 0.0001 0.0020 0.0002\n",
            "  4.0   0.01  0.30   0.02 0.04 0.0001 0.0030 0.0002\n",
            "  5.0   0.01  0.50   0.02 0.05 0.0001 0.0050 0.0002\n",
            "  6.0   0.01  0.85   0.02 0.06 0.0001 0.0085 0.0002\n",
            "  7.0   0.01  1.10   0.02 0.07 0.0001 0.0110 0.0002\n",
            "  8.0   0.01  1.50   0.02 0.08 0.0001 0.0150 0.0002\n",
            "  9.0   0.01  2.00   0.02 0.09 0.0001 0.0200 0.0002\n",
            " 10.0   0.01  2.60   0.02 0.10 0.0001 0.0260 0.0002\n",
            "\n",
            "Accelerating voltage = 2.5 kV:\n",
            " x_cm  dx_cm  y_cm  dy_cm    x     dx     y     dy\n",
            "  2.0   0.01   0.0   0.02 0.02 0.0001 0.000 0.0002\n",
            "  3.0   0.01   0.2   0.02 0.03 0.0001 0.002 0.0002\n",
            "  4.0   0.01   0.3   0.02 0.04 0.0001 0.003 0.0002\n",
            "  5.0   0.01   0.7   0.02 0.05 0.0001 0.007 0.0002\n",
            "  6.0   0.01   1.1   0.02 0.06 0.0001 0.011 0.0002\n",
            "  7.0   0.01   1.6   0.02 0.07 0.0001 0.016 0.0002\n",
            "  8.0   0.01   2.1   0.02 0.08 0.0001 0.021 0.0002\n",
            "  9.0   0.01   3.0   0.02 0.09 0.0001 0.030 0.0002\n",
            " 10.0   0.01   4.0   0.02 0.10 0.0001 0.040 0.0002\n"
          ]
        }
      ],
      "source": [
        "df1['x'] = 0.01*(df1['x_cm'])\n",
        "df1['dx'] = 0.01*df1['dx_cm']\n",
        "df1['y'] = 0.01*df1['y_cm']\n",
        "df1['dy'] = 0.01*df1['dy_cm']\n",
        "\n",
        "print('Accelerating voltage = 4.5 kV:')\n",
        "print(df1.to_string(index=False))\n",
        "\n",
        "df2['x'] = 0.01*(df2['x_cm'])\n",
        "df2['dx'] = 0.01*df2['dx_cm']\n",
        "df2['y'] = 0.01*df2['y_cm']\n",
        "df2['dy'] = 0.01*df2['dy_cm']\n",
        "\n",
        "print()\n",
        "print('Accelerating voltage = 3.5 kV:')\n",
        "print(df2.to_string(index=False))\n",
        "\n",
        "df3['x'] = 0.01*(df3['x_cm'])\n",
        "df3['dx'] = 0.01*df3['dx_cm']\n",
        "df3['y'] = 0.01*df3['y_cm']\n",
        "df3['dy'] = 0.01*df3['dy_cm']\n",
        "\n",
        "print()\n",
        "print('Accelerating voltage = 2.5 kV:')\n",
        "print(df3.to_string(index=False))"
      ]
    },
    {
      "cell_type": "code",
      "execution_count": 68,
      "metadata": {
        "id": "3U3RHdKDKzXS",
        "outputId": "8493c4ac-5320-402e-93f4-7692e6cf5b1e",
        "colab": {
          "base_uri": "https://localhost:8080/",
          "height": 635
        }
      },
      "outputs": [
        {
          "output_type": "stream",
          "name": "stdout",
          "text": [
            "Beta: [ 2.43184125e+00 -3.94738054e-02 -2.07620322e-04]\n",
            "Beta Std Error: [0.1973637  0.02426963 0.00064896]\n",
            "Beta Covariance: [[ 1.36411371e-02 -1.64711777e-03  4.01741990e-05]\n",
            " [-1.64711777e-03  2.06272900e-04 -5.27268899e-06]\n",
            " [ 4.01741990e-05 -5.27268899e-06  1.47484448e-07]]\n",
            "Residual Variance: 2.855511813174322\n",
            "Inverse Condition #: 0.0025689847753645333\n",
            "Reason(s) for Halting:\n",
            "  Sum of squares convergence\n",
            "\n",
            "Final Result: Y = (2.4318 +/- 0.1974)X^2 + (-0.0395 +/- 0.0243)X + (-0.000208 +/- 0.000649)\n"
          ]
        },
        {
          "output_type": "display_data",
          "data": {
            "image/png": "[encoded data removed]",
            "text/plain": [
              "<Figure size 640x480 with 1 Axes>"
            ]
          },
          "metadata": {
            "needs_background": "light"
          }
        }
      ],
      "source": [
        "xi = df1['x']\n",
        "yi = df1['y']\n",
        "sigmaxi = df1['dx']\n",
        "sigmayi = df1['dy']\n",
        "\n",
        "##############################\n",
        "\n",
        "from scipy.odr import *\n",
        "\n",
        "def fitfunction(B, x):\n",
        "    '''Non-Linear function y = a*(x-c)^b'''\n",
        "    # B is a vector of the parameters.\n",
        "    # x is an array of the current x values.\n",
        "    # x is in the same format as the x passed to Data or RealData.\n",
        "    #\n",
        "    # Return an array in the same format as y passed to Data or RealData\n",
        "    return B[0]*x**2 + B[1]*x + B[2]\n",
        "\n",
        "linear = Model(fitfunction) # create a Model object based on the fitfuncion we have defined\n",
        "mydata = RealData(xi, yi, sx=sigmaxi, sy=sigmayi) # create a data object based on our data, include errors.\n",
        "myodr = ODR(mydata, linear, beta0=[2.55, -0.05, 0.0002]) # create a fitting object, based on the data, fit Model, and an intial set of parameters.\n",
        "myoutput = myodr.run()  # run the fitting process to get optimized parameters!\n",
        "\n",
        "myoutput.pprint() # print out the result of the fit\n",
        "\n",
        "# Now assign the important fit results to some more convenient variables.\n",
        "\n",
        "popt = myoutput.beta # the vector of optimized parameters\n",
        "pcov = myoutput.cov_beta # the covariance matrix\n",
        "perr = myoutput.sd_beta # the vector of ERRORS in the optimized parameters\n",
        "\n",
        "# The following lines generate upper and lower 99% \"Confidence Bands\" on the fit, for visualization\n",
        "# purposes.\n",
        "\n",
        "ps = np.random.multivariate_normal(popt,pcov,10000)\n",
        "xl = np.linspace(xi[0],xi[len(xi)-1],100)\n",
        "ysample=np.asarray([fitfunction(pl,xl) for pl in ps])\n",
        "ysample = np.nan_to_num(ysample)\n",
        "\n",
        "lower = np.percentile(ysample,16.0,axis=0)\n",
        "upper = np.percentile(ysample,84.0,axis=0)\n",
        "middle = (lower+upper)/2.0\n",
        "\n",
        "print()\n",
        "print (\"Final Result: Y = (%0.4f +/- %0.4f)X^2 + (%0.4f +/- %0.4f)X + (%0.6f +/- %0.6f)\" % (popt[0],perr[0],popt[1],perr[1],popt[2],perr[2]))\n",
        "\n",
        "plt.figure(figsize=(8, 6), dpi=80)\n",
        "plt.errorbar(xi, yi, xerr=sigmaxi, yerr=sigmayi, fmt='o', capsize=2, capthick=1)\n",
        "\n",
        "plt.plot(xl,middle)\n",
        "plt.plot(xl,lower)\n",
        "plt.plot(xl,upper)\n",
        "\n",
        "#########################\n",
        "\n",
        "plt.xlabel('Horizonatal Distance (meters)')\n",
        "plt.ylabel('Vertical Distance (meters)')\n",
        "plt.title('Determining the Electron Path (Accelerating Voltage = 4.5 kV)')\n",
        "plt.show()"
      ]
    },
    {
      "cell_type": "markdown",
      "metadata": {
        "id": "_0E30lPkKzXU"
      },
      "source": [
        "## Analysis of Electron Path:   Accelerating Voltage = 4.5 kV\n",
        "\n",
        "First of all, we see that the fit is non-linear, as expected, and appears to be roughly quadratic.\n",
        "\n",
        "From the theory, we expect:\n",
        "\n",
        "$y = ax^2 + bx + c$\n",
        "\n",
        "where:\n",
        "\n",
        "$a = \\frac{V_p}{4 d_{eff} V_a} = C$\n",
        "\n",
        "$b = - 2 C x_i$\n",
        "\n",
        "$c = C x_i^2 + y_i$\n",
        "\n",
        "We see that the coefficient a = C is $(2.55 \\pm 0.01)$.\n",
        "\n",
        "The theory predicts that this coefficient should be equal to: $\\frac{V_p}{4 d_{eff} V_a}$.  Thus, we can calculate that:\n",
        "\n",
        "$d_{eff} = \\frac{V_p}{4 C V_a}$\n",
        "\n",
        "and \n",
        "\n",
        "$ \\delta(d_{eff}) = d_{eff} \\left( \\frac{\\delta(V_p)}{V_p} + \\frac{\\delta(V_a)}{V_a} + \\frac{\\delta(C)}{C} \\right) $"
      ]
    },
    {
      "cell_type": "code",
      "execution_count": 69,
      "metadata": {
        "id": "CBw9PbgmKzXW",
        "outputId": "61bdbe18-431e-44e8-e7de-8be71a5ed53d",
        "colab": {
          "base_uri": "https://localhost:8080/"
        }
      },
      "outputs": [
        {
          "output_type": "stream",
          "name": "stdout",
          "text": [
            "d$_{eff} = (0.083 +/- 0.007)\n",
            "xi = (0.00812 +/- -0.00433)\n",
            "yi = (-0.00037 +/- 0.00049)\n"
          ]
        }
      ],
      "source": [
        "Va = 4.50\n",
        "dVa = 0.01\n",
        "Vp = 3.64\n",
        "dVp = 0.01\n",
        "C = popt[0]\n",
        "dC = perr[0]\n",
        "b = popt[1]\n",
        "db = perr[1]\n",
        "c = popt[2]\n",
        "dc = perr[2]\n",
        "\n",
        "deff1 = Vp/(4*C*Va)\n",
        "\n",
        "ddeff1 = deff1*(dVp/Vp+dVa/Va+dC/C)\n",
        "\n",
        "print('d$_{eff} = (%0.3f +/- %0.3f)' % (deff1,ddeff1))\n",
        "\n",
        "x_i1 = -b/(2.0*C)\n",
        "dx_i1 = x_i1*(dC/C+db/b)\n",
        "\n",
        "y_i1 = c - C*x_i1**2\n",
        "dy_i1 = dc + x_i1**2*dC + 2.0*x_i1*C*dx_i1\n",
        "\n",
        "print('xi = (%0.5f +/- %0.5f)' % (x_i1,dx_i1))\n",
        "print('yi = (%0.5f +/- %0.5f)' % (y_i1,dy_i1))"
      ]
    },
    {
      "cell_type": "code",
      "execution_count": 70,
      "metadata": {
        "id": "fX9hwD-dKzXX",
        "outputId": "a16eaea3-6711-4866-d8c7-365c3c14a85d",
        "colab": {
          "base_uri": "https://localhost:8080/",
          "height": 635
        }
      },
      "outputs": [
        {
          "output_type": "stream",
          "name": "stdout",
          "text": [
            "Beta: [ 3.19368728e+00 -6.99466237e-02  6.25957042e-04]\n",
            "Beta Std Error: [0.28993797 0.03527639 0.00094484]\n",
            "Beta Covariance: [[ 1.33859459e-02 -1.60001373e-03  3.89327947e-05]\n",
            " [-1.60001373e-03  1.98155976e-04 -5.06362713e-06]\n",
            " [ 3.89327947e-05 -5.06362713e-06  1.42154277e-07]]\n",
            "Residual Variance: 6.280021324591533\n",
            "Inverse Condition #: 0.0074095389686243684\n",
            "Reason(s) for Halting:\n",
            "  Sum of squares convergence\n",
            "\n",
            "Final Result: Y = (3.1937 +/- 0.2899)X^2 + (-0.0699 +/- 0.0353)X + (0.000626 +/- 0.000945)\n"
          ]
        },
        {
          "output_type": "display_data",
          "data": {
            "image/png": "[encoded data removed]",
            "text/plain": [
              "<Figure size 640x480 with 1 Axes>"
            ]
          },
          "metadata": {
            "needs_background": "light"
          }
        }
      ],
      "source": [
        "xi = df2['x']\n",
        "yi = df2['y']\n",
        "sigmaxi = df2['dx']\n",
        "sigmayi = df2['dy']\n",
        "\n",
        "##############################\n",
        "\n",
        "##############################\n",
        "\n",
        "from scipy.odr import *\n",
        "\n",
        "def fitfunction(B, x):\n",
        "    '''Non-Linear function y = a*(x-c)^b'''\n",
        "    # B is a vector of the parameters.\n",
        "    # x is an array of the current x values.\n",
        "    # x is in the same format as the x passed to Data or RealData.\n",
        "    #\n",
        "    # Return an array in the same format as y passed to Data or RealData\n",
        "    return B[0]*x**2 + B[1]*x + B[2]\n",
        "\n",
        "linear = Model(fitfunction) # create a Model object based on the fitfuncion we have defined\n",
        "mydata = RealData(xi, yi, sx=sigmaxi, sy=sigmayi) # create a data object based on our data, include errors.\n",
        "myodr = ODR(mydata, linear, beta0=[2.11, 2.0,0.02]) # create a fitting object, based on the data, fit Model, and an intial set of parameters.\n",
        "myoutput = myodr.run()  # run the fitting process to get optimized parameters!\n",
        "\n",
        "myoutput.pprint() # print out the result of the fit\n",
        "\n",
        "# Now assign the important fit results to some more convenient variables.\n",
        "\n",
        "popt = myoutput.beta # the vector of optimized parameters\n",
        "pcov = myoutput.cov_beta # the covariance matrix\n",
        "perr = myoutput.sd_beta # the vector of ERRORS in the optimized parameters\n",
        "\n",
        "# The following lines generate upper and lower 99% \"Confidence Bands\" on the fit, for visualization\n",
        "# purposes.\n",
        "\n",
        "ps = np.random.multivariate_normal(popt,pcov,10000)\n",
        "xl = np.linspace(xi[0],xi[len(xi)-1],100)\n",
        "ysample=np.asarray([fitfunction(pl,xl) for pl in ps])\n",
        "ysample = np.nan_to_num(ysample)\n",
        "\n",
        "lower = np.percentile(ysample,16.0,axis=0)\n",
        "upper = np.percentile(ysample,84.0,axis=0)\n",
        "middle = (lower+upper)/2.0\n",
        "\n",
        "print()\n",
        "print (\"Final Result: Y = (%0.4f +/- %0.4f)X^2 + (%0.4f +/- %0.4f)X + (%0.6f +/- %0.6f)\" % (popt[0],perr[0],popt[1],perr[1],popt[2],perr[2]))\n",
        "\n",
        "plt.figure(figsize=(8, 6), dpi=80)\n",
        "plt.errorbar(xi, yi, xerr=sigmaxi, yerr=sigmayi, fmt='o', capsize=2, capthick=1)\n",
        "\n",
        "plt.plot(xl,middle)\n",
        "plt.plot(xl,lower)\n",
        "plt.plot(xl,upper)\n",
        "\n",
        "#########################\n",
        "\n",
        "plt.xlabel('Horizonatal Distance (meters)')\n",
        "plt.ylabel('Vertical Distance (meters)')\n",
        "plt.title('Determining the Electron Path (Accelerating Voltage = 3.5 kV)')\n",
        "plt.show()"
      ]
    },
    {
      "cell_type": "code",
      "execution_count": 71,
      "metadata": {
        "id": "7Fa2kD1BKzXZ",
        "outputId": "2b04114c-1d96-4893-efd7-2a9fe3177758",
        "colab": {
          "base_uri": "https://localhost:8080/"
        }
      },
      "outputs": [
        {
          "output_type": "stream",
          "name": "stdout",
          "text": [
            "d$_{eff} = (0.081 +/- 0.008)\n",
            "xi = (0.01095 +/- -0.00453)\n",
            "yi = (0.00024 +/- 0.00066)\n"
          ]
        }
      ],
      "source": [
        "Va = 3.50\n",
        "dVa = 0.01\n",
        "Vp = 3.64\n",
        "dVp = 0.01\n",
        "C = popt[0]\n",
        "dC = perr[0]\n",
        "b = popt[1]\n",
        "db = perr[1]\n",
        "c = popt[2]\n",
        "dc = perr[2]\n",
        "\n",
        "deff2 = Vp/(4*C*Va)\n",
        "\n",
        "ddeff2 = deff1*(dVp/Vp+dVa/Va+dC/C)\n",
        "\n",
        "print('d$_{eff} = (%0.3f +/- %0.3f)' % (deff2,ddeff2))\n",
        "\n",
        "x_i2 = -b/(2.0*C)\n",
        "dx_i2 = x_i2*(dC/C+db/b)\n",
        "\n",
        "y_i2 = c - C*x_i2**2\n",
        "dy_i2 = dc + x_i2**2*dC + 2.0*x_i2*C*dx_i2\n",
        "\n",
        "print('xi = (%0.5f +/- %0.5f)' % (x_i2,dx_i2))\n",
        "print('yi = (%0.5f +/- %0.5f)' % (y_i2,dy_i2))"
      ]
    },
    {
      "cell_type": "code",
      "execution_count": 72,
      "metadata": {
        "id": "BZPqscsHKzXa",
        "outputId": "7f420bdc-96e8-4c44-f8e7-9fd5b628e599",
        "colab": {
          "base_uri": "https://localhost:8080/",
          "height": 635
        }
      },
      "outputs": [
        {
          "output_type": "stream",
          "name": "stdout",
          "text": [
            "Beta: [ 5.81019948e+00 -2.15754675e-01  2.59960183e-03]\n",
            "Beta Std Error: [0.49431587 0.05977872 0.00159016]\n",
            "Beta Covariance: [[ 1.39978626e-02 -1.66235677e-03  4.01673855e-05]\n",
            " [-1.66235677e-03  2.04713229e-04 -5.19566151e-06]\n",
            " [ 4.01673855e-05 -5.19566151e-06  1.44855462e-07]]\n",
            "Residual Variance: 17.456106198510003\n",
            "Inverse Condition #: 0.007542720905915251\n",
            "Reason(s) for Halting:\n",
            "  Sum of squares convergence\n",
            "\n",
            "Final Result: Y = (5.8102 +/- 0.4943)X^2 + (-0.2158 +/- 0.0598)X + (0.002600 +/- 0.001590)\n"
          ]
        },
        {
          "output_type": "display_data",
          "data": {
            "image/png": "[encoded data removed]",
            "text/plain": [
              "<Figure size 640x480 with 1 Axes>"
            ]
          },
          "metadata": {
            "needs_background": "light"
          }
        }
      ],
      "source": [
        "xi = df3['x']\n",
        "yi = df3['y']\n",
        "sigmaxi = df3['dx']\n",
        "sigmayi = df3['dy']\n",
        "\n",
        "##############################\n",
        "\n",
        "from scipy.odr import *\n",
        "\n",
        "def fitfunction(B, x):\n",
        "    '''Non-Linear function y = a*(x-c)^b'''\n",
        "    # B is a vector of the parameters.\n",
        "    # x is an array of the current x values.\n",
        "    # x is in the same format as the x passed to Data or RealData.\n",
        "    #\n",
        "    # Return an array in the same format as y passed to Data or RealData\n",
        "    return B[0]*x**2 + B[1]*x + B[2]\n",
        "\n",
        "linear = Model(fitfunction) # create a Model object based on the fitfuncion we have defined\n",
        "mydata = RealData(xi, yi, sx=sigmaxi, sy=sigmayi) # create a data object based on our data, include errors.\n",
        "myodr = ODR(mydata, linear, beta0=[2.11, 2.0,0.02]) # create a fitting object, based on the data, fit Model, and an intial set of parameters.\n",
        "myoutput = myodr.run()  # run the fitting process to get optimized parameters!\n",
        "\n",
        "myoutput.pprint() # print out the result of the fit\n",
        "\n",
        "# Now assign the important fit results to some more convenient variables.\n",
        "\n",
        "popt = myoutput.beta # the vector of optimized parameters\n",
        "pcov = myoutput.cov_beta # the covariance matrix\n",
        "perr = myoutput.sd_beta # the vector of ERRORS in the optimized parameters\n",
        "\n",
        "# The following lines generate upper and lower 99% \"Confidence Bands\" on the fit, for visualization\n",
        "# purposes.\n",
        "\n",
        "ps = np.random.multivariate_normal(popt,pcov,10000)\n",
        "xl = np.linspace(xi[0],xi[len(xi)-1],100)\n",
        "ysample=np.asarray([fitfunction(pl,xl) for pl in ps])\n",
        "ysample = np.nan_to_num(ysample)\n",
        "\n",
        "lower = np.percentile(ysample,16.0,axis=0)\n",
        "upper = np.percentile(ysample,84.0,axis=0)\n",
        "middle = (lower+upper)/2.0\n",
        "\n",
        "print()\n",
        "print (\"Final Result: Y = (%0.4f +/- %0.4f)X^2 + (%0.4f +/- %0.4f)X + (%0.6f +/- %0.6f)\" % (popt[0],perr[0],popt[1],perr[1],popt[2],perr[2]))\n",
        "\n",
        "plt.figure(figsize=(8, 6), dpi=80)\n",
        "plt.errorbar(xi, yi, xerr=sigmaxi, yerr=sigmayi, fmt='o', capsize=2, capthick=1)\n",
        "\n",
        "plt.plot(xl,middle)\n",
        "plt.plot(xl,lower)\n",
        "plt.plot(xl,upper)\n",
        "\n",
        "#########################\n",
        "\n",
        "plt.xlabel('Horizonatal Distance (meters)')\n",
        "plt.ylabel('Vertical Distance (meters)')\n",
        "plt.title('Determining the Electron Path (Accelerating Voltage = 2.5 kV)')\n",
        "plt.show()"
      ]
    },
    {
      "cell_type": "code",
      "execution_count": 73,
      "metadata": {
        "id": "iunxMPnNKzXb",
        "outputId": "01a2f9f4-d7b6-41a5-a4e8-5f18c8af3688",
        "colab": {
          "base_uri": "https://localhost:8080/"
        }
      },
      "outputs": [
        {
          "output_type": "stream",
          "name": "stdout",
          "text": [
            "d$_{eff} = (0.063 +/- 0.008)\n",
            "xi = (0.01857 +/- -0.00356)\n",
            "yi = (0.00060 +/- 0.00099)\n"
          ]
        }
      ],
      "source": [
        "Va = 2.50\n",
        "dVa = 0.01\n",
        "Vp = 3.64\n",
        "dVp = 0.01\n",
        "C = popt[0]\n",
        "dC = perr[0]\n",
        "b = popt[1]\n",
        "db = perr[1]\n",
        "c = popt[2]\n",
        "dc = perr[2]\n",
        "\n",
        "deff3 = Vp/(4*C*Va)\n",
        "\n",
        "ddeff3 = deff1*(dVp/Vp+dVa/Va+dC/C)\n",
        "\n",
        "print('d$_{eff} = (%0.3f +/- %0.3f)' % (deff3,ddeff3))\n",
        "\n",
        "x_i3 = -b/(2.0*C)\n",
        "dx_i3 = x_i3*(dC/C+db/b)\n",
        "\n",
        "y_i3 = c - C*x_i3**2\n",
        "dy_i3 = dc + x_i3**2*dC + 2.0*x_i3*C*dx_i3\n",
        "\n",
        "print('xi = (%0.5f +/- %0.5f)' % (x_i3,dx_i3))\n",
        "print('yi = (%0.5f +/- %0.5f)' % (y_i3,dy_i3))"
      ]
    },
    {
      "cell_type": "code",
      "execution_count": 74,
      "metadata": {
        "id": "jRc3PeGkKzXc",
        "outputId": "31a36469-0dfa-4b96-baff-bee2e0296a1e",
        "colab": {
          "base_uri": "https://localhost:8080/"
        }
      },
      "outputs": [
        {
          "output_type": "stream",
          "name": "stdout",
          "text": [
            "Va = 4.50kV: d$_{eff} = (0.083 +/- 0.007)\n",
            "Va = 3.50kV: d$_{eff} = (0.081 +/- 0.008)\n",
            "Va = 2.50kV: d$_{eff} = (0.063 +/- 0.008)\n"
          ]
        }
      ],
      "source": [
        "# Summary of Part I\n",
        "\n",
        "print('Va = 4.50kV: d$_{eff} = (%0.3f +/- %0.3f)' % (deff1,ddeff1))\n",
        "print('Va = 3.50kV: d$_{eff} = (%0.3f +/- %0.3f)' % (deff2,ddeff2))\n",
        "print('Va = 2.50kV: d$_{eff} = (%0.3f +/- %0.3f)' % (deff3,ddeff3))"
      ]
    },
    {
      "cell_type": "markdown",
      "metadata": {
        "id": "qWjHMM4iKzXc"
      },
      "source": [
        "# Determining the Effective Plate Separation"
      ]
    },
    {
      "cell_type": "code",
      "execution_count": 75,
      "metadata": {
        "id": "OPI5IE4aKzXd",
        "outputId": "b7bf3627-a30e-4b48-92de-7ec6d097267d",
        "colab": {
          "base_uri": "https://localhost:8080/"
        }
      },
      "outputs": [
        {
          "output_type": "stream",
          "name": "stdout",
          "text": [
            "Plate Separation Data:\n",
            "  Vp  dVp  Va  dVa\n",
            "2.60 0.01 2.9 0.01\n",
            "2.70 0.01 3.1 0.01\n",
            "2.90 0.01 3.3 0.01\n",
            "3.00 0.01 3.5 0.01\n",
            "3.10 0.01 3.7 0.01\n",
            "3.30 0.01 3.9 0.01\n",
            "3.45 0.01 4.1 0.01\n",
            "3.60 0.01 4.3 0.01\n",
            "3.75 0.01 4.5 0.01\n",
            "3.85 0.01 4.7 0.01\n",
            "4.00 0.01 4.9 0.01\n",
            "4.15 0.01 5.1 0.01\n",
            "4.30 0.01 5.3 0.01\n",
            "4.50 0.01 5.5 0.01\n"
          ]
        }
      ],
      "source": [
        "# Create a Pandas DataFrame with data for part 2\n",
        "\n",
        "# The data elements are [Vp, dVp, Va, dVa]\n",
        "\n",
        "data4 = [[2.6, 0.01, 2.9, 0.01], [2.7, 0.01, 3.1, 0.01], [2.9, 0.01, 3.3, 0.01],\n",
        "         [3.0, 0.01, 3.5, 0.01], [3.1, 0.01, 3.7, 0.01], [3.3, 0.01, 3.9, 0.01], \n",
        "         [3.45, 0.01, 4.1, 0.01], [3.6, 0.01, 4.3, 0.01], [3.75, 0.01, 4.5, 0.01],\n",
        "         [3.85, 0.01, 4.7, 0.01], [4.0, 0.01, 4.9, 0.01], [4.15, 0.01, 5.1, 0.01],\n",
        "         [4.3, 0.01, 5.3, 0.01], [4.5, 0.01, 5.5, 0.01]]\n",
        "# create dataframe\n",
        "df4 = pd.DataFrame(data4, columns = ['Vp', 'dVp','Va','dVa'])\n",
        "\n",
        "print('Plate Separation Data:')\n",
        "print(df4.to_string(index=False))"
      ]
    },
    {
      "cell_type": "code",
      "execution_count": 76,
      "metadata": {
        "id": "DLgE42c9KzXe",
        "outputId": "9fec3a98-49fe-4133-afbd-9e3a494a8831",
        "colab": {
          "base_uri": "https://localhost:8080/",
          "height": 617
        }
      },
      "outputs": [
        {
          "output_type": "stream",
          "name": "stdout",
          "text": [
            "Beta: [0.72356223 0.47532434]\n",
            "Beta Std Error: [0.00922897 0.03946922]\n",
            "Beta Covariance: [[ 1.67460926e-05 -7.03336049e-05]\n",
            " [-7.03336049e-05  3.06283658e-04]]\n",
            "Residual Variance: 5.0861986514941515\n",
            "Inverse Condition #: 0.037081449735772154\n",
            "Reason(s) for Halting:\n",
            "  Sum of squares convergence\n",
            "\n",
            "Final Result: Y = (0.723562233 +/- 0.009228974)X + (0.475324338 +/- 0.039469223)\n"
          ]
        },
        {
          "output_type": "display_data",
          "data": {
            "image/png": "[encoded data removed]",
            "text/plain": [
              "<Figure size 640x480 with 1 Axes>"
            ]
          },
          "metadata": {
            "needs_background": "light"
          }
        }
      ],
      "source": [
        "xi = df4['Va']\n",
        "yi = df4['Vp']\n",
        "sigmaxi = df4['dVa']\n",
        "sigmayi = df4['dVp']\n",
        "\n",
        "##############################\n",
        "\n",
        "from scipy.odr import *\n",
        "\n",
        "def fitfunction(B, x):\n",
        "    '''Linear function y = a*x+b'''\n",
        "    # B is a vector of the parameters.\n",
        "    # x is an array of the current x values.\n",
        "    # x is in the same format as the x passed to Data or RealData.\n",
        "    #\n",
        "    # Return an array in the same format as y passed to Data or RealData.\n",
        "    return B[0]*x+B[1]\n",
        "\n",
        "linear = Model(fitfunction) # create a Model object based on the fitfuncion we have defined\n",
        "mydata = RealData(xi, yi, sx=sigmaxi, sy=sigmayi) # create a data object based on our data, include errors.\n",
        "myodr = ODR(mydata, linear, beta0=[1., 2.]) # create a fitting object, based on the data, fit Model, and an intial set of parameters.\n",
        "myoutput = myodr.run()  # run the fitting process to get optimized parameters!\n",
        "\n",
        "myoutput.pprint() # print out the result of the fit\n",
        "\n",
        "# Now assign the important fit results to some more convenient variables.\n",
        "\n",
        "popt = myoutput.beta # the vector of optimized parameters\n",
        "pcov = myoutput.cov_beta # the covariance matrix\n",
        "perr = myoutput.sd_beta # the vector of ERRORS in the optimized parameters\n",
        "\n",
        "# The following lines generate upper and lower 99% \"Confidence Bands\" on the fit, for visualization\n",
        "# purposes.\n",
        "\n",
        "ps = np.random.multivariate_normal(popt,pcov,10000)\n",
        "xl = np.linspace(xi[0],xi[len(xi)-1],100)\n",
        "ysample=np.asarray([fitfunction(pl,xl) for pl in ps])\n",
        "\n",
        "lower = np.percentile(ysample,0.5,axis=0)\n",
        "upper = np.percentile(ysample,99.5,axis=0)\n",
        "middle = (lower+upper)/2.0\n",
        "\n",
        "print()\n",
        "print (\"Final Result: Y = (%0.9f +/- %0.9f)X + (%0.9f +/- %0.9f)\" % (popt[0],perr[0],popt[1],perr[1]))\n",
        "\n",
        "plt.figure(figsize=(8, 6), dpi=80)\n",
        "\n",
        "plt.errorbar(xi, yi, xerr=sigmaxi, yerr=sigmayi, fmt='o', capsize=2, capthick=1)\n",
        "\n",
        "plt.plot(xl,middle)\n",
        "plt.plot(xl,lower)\n",
        "plt.plot(xl,upper)\n",
        "\n",
        "#########################\n",
        "\n",
        "plt.xlabel('Accelerating Voltage (kV)')\n",
        "plt.ylabel('Plate Voltage (kV)')\n",
        "plt.title('Determining the Effective Plate Separation')\n",
        "plt.show()"
      ]
    },
    {
      "cell_type": "markdown",
      "metadata": {
        "id": "GhDnWil6KzXe"
      },
      "source": [
        "## Analysis of Electron Path:   Accelerating Voltage = 4.5 kV\n",
        "\n",
        "First of all, we see that the fit is linear, as expected.\n",
        "\n",
        "Second, we see that the result for the slope is $(0.727 \\pm 0.006)$.  \n",
        "\n",
        "Third, we see that the y-intercept of the fit is $(0.076 \\pm 0.023)$.  This is not\n",
        "consistent with zero, as expected.\n",
        "\n",
        "The theory predicts that this slope should be equal to: $\\frac{4 \\Delta y d_{eff}}{(\\Delta x)^2}$.  Thus, we can calculate that:\n",
        "\n",
        "$d_{eff} = slope \\left( \\frac{(\\Delta x)^2}{4 \\Delta y} \\right)$\n",
        "\n",
        "and \n",
        "\n",
        "$ \\delta(d_{eff}) = d_{eff} \\left( 2 \\frac{\\delta(\\Delta x)}{\\Delta x} + \\frac{\\delta(\\Delta y)}{\\Delta y} + \\frac{\\delta(slope)}{slope} \\right) $"
      ]
    },
    {
      "cell_type": "code",
      "execution_count": 77,
      "metadata": {
        "id": "RAzTfovWKzXf"
      },
      "outputs": [],
      "source": [
        "slope = popt[0]\n",
        "dslope = perr[0]\n",
        "\n",
        "deltax = 0.100\n",
        "ddeltax = 0.001\n",
        "deltay = 0.020\n",
        "ddeltay = 0.001\n",
        "\n",
        "deff4 = slope*(deltax**2)/(4.0*deltay)\n",
        "ddeff4 = deff4*(2*ddeltax/deltax + ddeltay/deltay + dslope/slope)\n",
        "\n"
      ]
    },
    {
      "cell_type": "code",
      "execution_count": 78,
      "metadata": {
        "id": "O7AVukcOKzXf",
        "outputId": "d2e73456-d4f5-4ae3-d31d-43a86c9a14f3",
        "colab": {
          "base_uri": "https://localhost:8080/"
        }
      },
      "outputs": [
        {
          "output_type": "stream",
          "name": "stdout",
          "text": [
            "Part II: Effective distance = (0.090 +/- 0.007) m\n",
            "\n",
            "Part I:\n",
            "Va = 4.50kV: d_eff = (0.083 +/- 0.007) m\n",
            "Va = 3.50kV: d_eff = (0.081 +/- 0.008) m\n",
            "Va = 2.50kV: d_eff = (0.063 +/- 0.008) m\n"
          ]
        }
      ],
      "source": [
        "# Final Summary\n",
        "print (\"Part II: Effective distance = (%0.3f +/- %0.3f) m\" % (deff4,ddeff4))\n",
        "\n",
        "print()\n",
        "print(\"Part I:\")\n",
        "print('Va = 4.50kV: d_eff = (%0.3f +/- %0.3f) m' % (deff1,ddeff1))\n",
        "print('Va = 3.50kV: d_eff = (%0.3f +/- %0.3f) m' % (deff2,ddeff2))\n",
        "print('Va = 2.50kV: d_eff = (%0.3f +/- %0.3f) m' % (deff3,ddeff3))"
      ]
    },
    {
      "cell_type": "code",
      "execution_count": 79,
      "metadata": {
        "id": "Up0RYupfKzXg",
        "outputId": "b7977027-84be-4fab-d515-6e826d8cdb87",
        "colab": {
          "base_uri": "https://localhost:8080/",
          "height": 461
        }
      },
      "outputs": [
        {
          "output_type": "stream",
          "name": "stdout",
          "text": [
            "Weighted Average = 0.0796 +/- 0.0038 m\n"
          ]
        },
        {
          "output_type": "display_data",
          "data": {
            "image/png": "[encoded data removed]",
            "text/plain": [
              "<Figure size 640x480 with 1 Axes>"
            ]
          },
          "metadata": {
            "needs_background": "light"
          }
        }
      ],
      "source": [
        "x1 = ['IA','IB','IC','II']\n",
        "y1 = np.array([deff1,deff2,deff3,deff4])\n",
        "dy1 = np.array([ddeff1,ddeff2,ddeff3,ddeff4])\n",
        "\n",
        "# Calculate the weighted average of the effective distance values.\n",
        "def w_avg(x, dx):\n",
        "    d = x\n",
        "    w = 1.0/dx**2\n",
        "    return (d * w).sum()/w.sum(), np.sqrt(1/w.sum())\n",
        "\n",
        "average, daverage = w_avg(y1,dy1)\n",
        "print ('Weighted Average = %0.4f +/- %0.4f m' % (average,daverage))\n",
        "ylow = average-daverage\n",
        "yhigh = average+daverage\n",
        "y2 = [ylow,ylow,ylow,ylow]\n",
        "y3 = [yhigh,yhigh,yhigh,yhigh]\n",
        "\n",
        "\n",
        "plt.figure(figsize=(8, 6), dpi=80)\n",
        "\n",
        "plt.errorbar(x1, y1, yerr=dy1, fmt='o', capsize=2, capthick=1)\n",
        "plt.plot(x1,y2)\n",
        "plt.plot(x1,y3)\n",
        "\n",
        "#########################\n",
        "\n",
        "plt.xlabel('Experiment Part')\n",
        "plt.ylabel('Effective Plate Separation (m)')\n",
        "plt.title('Comparison of Parts I and II')\n",
        "plt.ylim(0,0.12)\n",
        "plt.show()"
      ]
    },
    {
      "cell_type": "code",
      "execution_count": 80,
      "metadata": {
        "id": "K7Jrl5TFKzXg",
        "outputId": "f2725635-a352-42a8-c0fd-93eea8974bac",
        "colab": {
          "base_uri": "https://localhost:8080/",
          "height": 444
        }
      },
      "outputs": [
        {
          "output_type": "display_data",
          "data": {
            "image/png": "[encoded data removed]",
            "text/plain": [
              "<Figure size 640x480 with 1 Axes>"
            ]
          },
          "metadata": {
            "needs_background": "light"
          }
        }
      ],
      "source": [
        "x1 = ['IA','IB','IC']\n",
        "y1 = [x_i1,x_i2,x_i3]\n",
        "dy1 = [dx_i1,dx_i2,dx_i3]\n",
        "y2 = [y_i1,y_i2,y_i3]\n",
        "dy2 = [dy_i1,dy_i2,dy_i3]\n",
        "\n",
        "plt.figure(figsize=(8, 6), dpi=80)\n",
        "\n",
        "plt.errorbar(x1, y1, yerr=dy1, fmt='o', capsize=2, capthick=1)\n",
        "plt.errorbar(x1, y2, yerr=dy2, fmt='o', capsize=2, capthick=1)\n",
        "#########################\n",
        "\n",
        "plt.xlabel('Experiment Part')\n",
        "plt.ylabel('Initial X/Y Position (m)')\n",
        "plt.title('Comparison of Part I Extractions')\n",
        "plt.ylim(-0.01,0.02)\n",
        "plt.show()"
      ]
    },
    {
      "cell_type": "code",
      "execution_count": 80,
      "metadata": {
        "id": "z8B6JvUsKzXh"
      },
      "outputs": [],
      "source": [
        ""
      ]
    }
  ],
  "metadata": {
    "kernelspec": {
      "display_name": "Python 3",
      "language": "python",
      "name": "python3"
    },
    "language_info": {
      "codemirror_mode": {
        "name": "ipython",
        "version": 3
      },
      "file_extension": ".py",
      "mimetype": "text/x-python",
      "name": "python",
      "nbconvert_exporter": "python",
      "pygments_lexer": "ipython3",
      "version": "3.6.8"
    },
    "latex_envs": {
      "LaTeX_envs_menu_present": true,
      "autoclose": false,
      "autocomplete": true,
      "bibliofile": "biblio.bib",
      "cite_by": "apalike",
      "current_citInitial": 1,
      "eqLabelWithNumbers": true,
      "eqNumInitial": 1,
      "hotkeys": {
        "equation": "Ctrl-E",
        "itemize": "Ctrl-I"
      },
      "labels_anchors": false,
      "latex_user_defs": false,
      "report_style_numbering": false,
      "user_envs_cfg": false
    },
    "colab": {
      "name": "Electric_Force_Analysis_Quadratic.ipynb",
      "provenance": []
    }
  },
  "nbformat": 4,
  "nbformat_minor": 0
}